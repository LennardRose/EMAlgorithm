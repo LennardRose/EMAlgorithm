{
 "cells": [
  {
   "cell_type": "code",
   "execution_count": 1,
   "metadata": {
    "pycharm": {
     "name": "#%%\n"
    }
   },
   "outputs": [],
   "source": [
    "import math\n",
    "import re\n",
    "from pathlib import Path\n",
    "import numpy as np\n",
    "from matplotlib.patches import Ellipse\n",
    "import matplotlib.transforms as transforms\n",
    "from scipy.stats import multivariate_normal, norm\n",
    "import matplotlib.pyplot as plt\n",
    "import sklearn.datasets as spd\n",
    "from sklearn.cluster import KMeans\n",
    "from sklearn.metrics import rand_score\n",
    "import random\n",
    "import glob\n",
    "from PIL import Image \n",
    "from tqdm import tqdm"
   ]
  },
  {
   "cell_type": "markdown",
   "source": [
    "## Data Preparation and Initialization"
   ],
   "metadata": {
    "collapsed": false,
    "pycharm": {
     "name": "#%% md\n"
    }
   }
  },
  {
   "cell_type": "code",
   "execution_count": 2,
   "metadata": {
    "pycharm": {
     "name": "#%%\n"
    }
   },
   "outputs": [],
   "source": [
    "def generate_test_data(num_components=3, num_dims=2, num_cluster_points=100, range_limit=(-10, 10)):\n",
    "    \"\"\"\n",
    "    Generates test data randomly\n",
    "    :param num_components: how many components for the gaussian mixture model to initialize\n",
    "    :param num_dims: how many dimensions every gaussian has\n",
    "    :param num_cluster_points: how many points in every cluster\n",
    "    :param range_limit: range_limit: lower and upper range limit for the parameter initialization, plot will have a range of +/- range_limit + 1/2 range_limit\n",
    "    :return:\n",
    "    \"\"\"\n",
    "    data = []\n",
    "    mean = np.random.rand(num_components, num_dims) * (range_limit[1] - range_limit[0]) + range_limit[0]\n",
    "    cov = None\n",
    "    for i in range(num_components):\n",
    "        cov = spd.make_spd_matrix(num_dims)\n",
    "        data += list(np.random.multivariate_normal(mean[i], cov, num_cluster_points))\n",
    "    data = np.array(data)\n",
    "    return data, mean, cov\n",
    "\n",
    "\n",
    "def initialize_random_components_params(num_components, num_dims):\n",
    "    \"\"\"\n",
    "    Initializes the pi, mu and cov(sigma) for every cluster\n",
    "    :param num_components: the number of components to \"search for\" in the mixture model\n",
    "    :param num_dims: the number of dimensions\n",
    "    :return: the initialized parameters\n",
    "    \"\"\"\n",
    "    components_params = []\n",
    "\n",
    "    for _ in range(0, num_components):\n",
    "        components_params.append({\n",
    "            'p': 1 / num_components,\n",
    "            'm': np.random.normal(0, 1, size=(num_dims,)),\n",
    "            's': spd.make_spd_matrix(num_dims)\n",
    "        })\n",
    "    return components_params"
   ]
  },
  {
   "cell_type": "markdown",
   "source": [
    "## Plotting and Visualization"
   ],
   "metadata": {
    "collapsed": false,
    "pycharm": {
     "name": "#%% md\n"
    }
   }
  },
  {
   "cell_type": "code",
   "execution_count": 3,
   "metadata": {
    "pycharm": {
     "name": "#%%\n"
    }
   },
   "outputs": [],
   "source": [
    "def plot(data, components_params, fig, title, colors, range_limit=(-10, 10), w=0.1, plot=False, save=False):\n",
    "    \"\"\"\n",
    "    Plotting function for visualizing the Algorithm, only works for 1 and 2 Dimensions!\n",
    "    :param data: The data to plot\n",
    "    :param components_params: The components_params to plot the estimated gaussians of TODO check if this is right\n",
    "    :param fig: The Figure to Plot this on, this function is supposed to be called in many iterations, reinitializing kills your ram\n",
    "    :param title: The title for the figures, also the name of the file if saved\n",
    "    :param colors: the colors for the 2D plot\n",
    "    :param range_limit: range_limit: lower and upper range limit for the parameter initialization, plot will have a range of +/- range_limit + 1/2 range_limit\n",
    "    :param w: the width of the histogram bins, used to compute the number of bins\n",
    "    :param plot: If True, shows the current figure\n",
    "    :param save: If True, saves the current figure in ./images/\n",
    "    \"\"\"\n",
    "\n",
    "    # One Dimension\n",
    "    if len(components_params[0][\"m\"]) == 1:\n",
    "        n_bins = math.ceil((data.max() - data.min()) / w)\n",
    "        x = np.linspace(range_limit[0] + (range_limit[0] / 2), range_limit[1] + (range_limit[1] / 2), data.shape[0], )\n",
    "        x = x.reshape(data.shape[0], 1)\n",
    "        plt.hist(data, bins=n_bins, density=True)\n",
    "\n",
    "        # create gaussian curves and also sum them up for the gaussian mixture\n",
    "        gaussian_mixture = 0\n",
    "        for param in components_params:\n",
    "            gaussian = param[\"p\"] * norm.pdf(x, loc=param[\"m\"], scale=np.sqrt(param[\"s\"]))\n",
    "            plt.plot(x, gaussian, label=\"gaussian\")\n",
    "            gaussian_mixture += gaussian\n",
    "\n",
    "        plt.plot(x, gaussian_mixture, color=\"black\", linewidth=1.5, label=\"gaussian mixture\")\n",
    "        plt.legend()\n",
    "        plt.title(title)\n",
    "\n",
    "        if save:\n",
    "            plt.savefig(\"./images/\" + title.replace(':', '_').replace(' ', '_') + \".png\")\n",
    "        if plot:\n",
    "            plt.show()\n",
    "\n",
    "    # Two Dimension plotting implemented according to: https://matplotlib.org/stable/gallery/statistics/confidence_ellipse.html\n",
    "    if len(components_params[0][\"m\"]) == 2:\n",
    "\n",
    "        ax = fig.gca()\n",
    "        ax.scatter(data[:, 0], data[:, 1], s=3, alpha=0.4)\n",
    "        ax.set_xlim((range_limit[0] + (range_limit[0] / 2), range_limit[1] + (range_limit[1] / 2)))\n",
    "        ax.set_ylim((range_limit[0] + (range_limit[0] / 2), range_limit[1] + (range_limit[1] / 2)))\n",
    "        plt.title(title)\n",
    "\n",
    "        # Plot an elipse for every gaussian\n",
    "        for color, param in zip(colors, components_params):\n",
    "            pearson = param[\"s\"][0, 1] / np.sqrt(param[\"s\"][0, 0] * param[\"s\"][1, 1])\n",
    "            for i in range(1, 4): # some more depth to the plotting\n",
    "                ell_radius_x = np.sqrt(1 + pearson)\n",
    "                ell_radius_y = np.sqrt(1 - pearson)\n",
    "                ellipse = Ellipse((0, 0),\n",
    "                                  width=ell_radius_x * 2,\n",
    "                                  height=ell_radius_y * 2,\n",
    "                                  facecolor=color,\n",
    "                                  alpha=0.2)\n",
    "                scale_x = np.sqrt(param[\"s\"][0, 0]) * i\n",
    "                mean_x = param[\"m\"][0]\n",
    "                scale_y = np.sqrt(param[\"s\"][1, 1]) * i\n",
    "                mean_y = param[\"m\"][1]\n",
    "                transf = transforms.Affine2D() \\\n",
    "                    .rotate_deg(45) \\\n",
    "                    .scale(scale_x, scale_y) \\\n",
    "                    .translate(mean_x, mean_y)\n",
    "                ellipse.set_transform(transf + ax.transData)\n",
    "                ax.add_patch(ellipse)\n",
    "\n",
    "\n",
    "\n",
    "        if save:\n",
    "            plt.savefig(\"./images/\" + title.replace(':', '_').replace(' ', '_') + \".png\")\n",
    "        if plot:\n",
    "            plt.show()\n",
    "\n",
    "    # clear figure\n",
    "    plt.clf()\n",
    "\n",
    "\n",
    "def save_as_gif(input_folder=\"./images/Iteration_*\", output_folder=\"./gifs/iterations.gif\"):\n",
    "    \"\"\"\n",
    "    saves all images from the input_folder as one gif, sorts by numers in filename\n",
    "    https://pillow.readthedocs.io/en/stable/handbook/image-file-formats.html#gif\n",
    "    :param input_folder: The directory to get all images from\n",
    "    :param output_folder: The directory to save the created gif to\n",
    "    \"\"\"\n",
    "    imgs = (Image.open(f) for f in sorted(glob.glob(input_folder), key=get_order))\n",
    "    img = next(imgs)  # extract first image from iterator\n",
    "    img.save(fp=output_folder, format='GIF', append_images=imgs,\n",
    "             save_all=True, duration=200, loop=0)\n",
    "\n",
    "\n",
    "def get_order(file):\n",
    "    \"\"\"\n",
    "    For stop sorting like 1, 10, 100, 11 .. 19, 2, 20, 21 ...\n",
    "    recklessly stolen from https://stackoverflow.com/questions/62941378/how-to-sort-glob-glob-numerically\n",
    "    :param file: the file to be sorted\n",
    "    \"\"\"\n",
    "    file_pattern = re.compile(r'.*?(\\d+).*?')\n",
    "    match = file_pattern.match(Path(file).name)\n",
    "    if not match:\n",
    "        return math.inf\n",
    "    return int(match.groups()[0])"
   ]
  },
  {
   "cell_type": "markdown",
   "source": [
    "## Algorithm"
   ],
   "metadata": {
    "collapsed": false,
    "pycharm": {
     "name": "#%% md\n"
    }
   }
  },
  {
   "cell_type": "code",
   "execution_count": 4,
   "metadata": {
    "pycharm": {
     "name": "#%%\n"
    }
   },
   "outputs": [],
   "source": [
    "def EM(data, num_components, num_dims, num_iterations, init_parameters=None, plot_steps=False, save_figs=False,\n",
    "       range_limit=(-10, 10)):\n",
    "    \"\"\"\n",
    "    :param data: The data to apply the EM on\n",
    "    :param num_components: The number of gaussian clusters\n",
    "    :param num_dims: The number of dimensions\n",
    "    :param num_iterations: The number of iterations to do\n",
    "    :param init_parameters: initialized parameters to use with this algorithm, needs to match num_components und num_dims. If None, parameters will be initialized arbitrarily\n",
    "    :param plot_steps: Set True if you want to see the plottet state after every iteration\n",
    "    :param save_figs: Set True if you want to save an image of the state after every iteration\n",
    "    :param range_limit: lower and upper range limit for the parameter initialization, plot will will have a range of +/- range_limit + 1/2 range_limit\n",
    "    \"\"\"\n",
    "\n",
    "    num_iterations = num_iterations\n",
    "    num_components = num_components\n",
    "    num_points = data.shape[0]\n",
    "    num_dims = num_dims\n",
    "    responsibilities = np.zeros((num_points, num_components))\n",
    "\n",
    "    if init_parameters:\n",
    "        components_params = init_parameters\n",
    "    else:\n",
    "        components_params = initialize_random_components_params(num_components, num_dims)\n",
    "\n",
    "    if range_limit[0] > range_limit[1]:\n",
    "        ValueError(\"lower limit must be smaller number than upper limit\")\n",
    "\n",
    "    if plot_steps or save_figs:\n",
    "        colors = [\"#\" + ''.join([random.choice('ABCDEF0123456789') for _ in range(6)]) for _ in range(num_components)]\n",
    "        fig = plt.figure(figsize=(8, 8))\n",
    "\n",
    "    ll = []\n",
    "\n",
    "    for iteration in tqdm(range(num_iterations)):\n",
    "        components_params = m_step(components_params, data, e_step(components_params, data, responsibilities))\n",
    "\n",
    "        if plot_steps or save_figs:\n",
    "            plot(data,\n",
    "                 components_params,\n",
    "                 fig,\n",
    "                 colors=colors,\n",
    "                 range_limit=range_limit,\n",
    "                 save=save_figs,\n",
    "                 plot=plot_steps,\n",
    "                 title=\"Iteration: \" + str(iteration + 1))\n",
    "\n",
    "        ll.append(compute_log_likelihood(data, components_params))\n",
    "\n",
    "    return components_params, responsibilities, ll"
   ]
  },
  {
   "cell_type": "markdown",
   "source": [
    "<img src=\"./images/notebook/e-step.png\" width=500>"
   ],
   "metadata": {
    "collapsed": false,
    "pycharm": {
     "name": "#%% md\n"
    }
   }
  },
  {
   "cell_type": "code",
   "execution_count": 5,
   "outputs": [],
   "source": [
    "def e_step(components_params, data, responsibilities):\n",
    "    \"\"\"\n",
    "    Evaluate responsibilities based on parameters\n",
    "    :param components_params: the parameter for every component k\n",
    "    :param data: The data to evaluate to which component k they belong\n",
    "    :param responsibilities: The responsibilities to evaluate\n",
    "    :return: the updated responsibilities\n",
    "    \"\"\"\n",
    "    for i, param in enumerate(components_params):\n",
    "        # compute the responsibilities(likelihood) for every datapoint and every component\n",
    "        responsibilities[:, i] = multivariate_normal.pdf(data, mean=param[\"m\"], cov=param[\"s\"]) * param[\"p\"]\n",
    "\n",
    "    return responsibilities / responsibilities.sum(axis=1, keepdims=True)"
   ],
   "metadata": {
    "collapsed": false,
    "pycharm": {
     "name": "#%%\n"
    }
   }
  },
  {
   "cell_type": "markdown",
   "source": [
    "<img src=\"./images/notebook/m-step.png\" width=500>"
   ],
   "metadata": {
    "collapsed": false,
    "pycharm": {
     "name": "#%% md\n"
    }
   }
  },
  {
   "cell_type": "code",
   "execution_count": 6,
   "outputs": [],
   "source": [
    "def m_step(components_params, data, responsibilities):\n",
    "    \"\"\"\n",
    "    Update Parameters based on parameters\n",
    "    :param components_params: The parameters of every component k to update\n",
    "    :param data: The data to estimate the parameters for\n",
    "    :param responsibilities: the responsibilities from the prior e step\n",
    "    :return: the updated parameters\n",
    "    \"\"\"\n",
    "    sum_responsibilities = responsibilities.sum(axis=0) # sum of points for component k\n",
    "\n",
    "    for i, param in enumerate(components_params):\n",
    "        # pi for the component is the sum of points for component k divided by all points\n",
    "        param[\"p\"] = sum_responsibilities[i] / len(data)\n",
    "\n",
    "        # compute the mean - datapoint times responsibility, divided by all responsibilities for the component\n",
    "        param[\"m\"] = (np.matmul(responsibilities[:,i].T, data) / sum_responsibilities[i])\n",
    "\n",
    "        # compute the sigma/cov - squared(datapoint divided by mu) times responsibility, divided by all responsibilities for the component\n",
    "        a = np.expand_dims(data, axis=1) - param[\"m\"] # sample minus mu\n",
    "        b = np.matmul(a.transpose([0, 2, 1]), a) # square\n",
    "        param[\"s\"] = np.matmul(b.transpose(1, 2, 0), responsibilities[:, i]) / sum_responsibilities[i] # multiple with responsibilities, again divide by all responsibilities for the component\n",
    "\n",
    "    return components_params"
   ],
   "metadata": {
    "collapsed": false,
    "pycharm": {
     "name": "#%%\n"
    }
   }
  },
  {
   "cell_type": "code",
   "execution_count": 7,
   "outputs": [],
   "source": [
    "def compute_log_likelihood(data, components_params):\n",
    "    '''\n",
    "    Compute the log likelihood of the data with the current parameters\n",
    "    :param data: the data to compute the log likelihood with\n",
    "    :param components_params: the parameters to compute the log likelihood with\n",
    "    '''\n",
    "    log_likelihoods = []\n",
    "    for datapoint in data:\n",
    "        ll = 0\n",
    "        for param in components_params:\n",
    "            ll += param[\"p\"] * multivariate_normal.pdf(datapoint, mean=param[\"m\"], cov=param[\"s\"])\n",
    "        log_likelihoods.append(np.log(ll))\n",
    "    return np.sum(log_likelihoods)"
   ],
   "metadata": {
    "collapsed": false,
    "pycharm": {
     "name": "#%%\n"
    }
   }
  },
  {
   "cell_type": "markdown",
   "source": [
    "## Application of EM-Algorithm"
   ],
   "metadata": {
    "collapsed": false,
    "pycharm": {
     "name": "#%% md\n"
    }
   }
  },
  {
   "cell_type": "markdown",
   "source": [
    "#### One Dimensional Data"
   ],
   "metadata": {
    "collapsed": false,
    "pycharm": {
     "name": "#%% md\n"
    }
   }
  },
  {
   "cell_type": "code",
   "execution_count": 42,
   "metadata": {
    "pycharm": {
     "name": "#%%\n"
    }
   },
   "outputs": [],
   "source": [
    "# Generate random 1D data with 4 clusters\n",
    "X, m, c = generate_test_data(num_components=4,\n",
    "                             num_dims=1,\n",
    "                             num_cluster_points=1000)"
   ]
  },
  {
   "cell_type": "code",
   "execution_count": 43,
   "metadata": {
    "pycharm": {
     "name": "#%%\n"
    }
   },
   "outputs": [
    {
     "name": "stdout",
     "output_type": "stream",
     "text": [
      "(4000, 1)\n",
      "(4, 1)\n",
      "(1, 1)\n"
     ]
    }
   ],
   "source": [
    "# check the shapes of all generated data\n",
    "print(str(X.shape))\n",
    "print(m.shape)\n",
    "print(c.shape)"
   ]
  },
  {
   "cell_type": "code",
   "execution_count": 44,
   "metadata": {
    "pycharm": {
     "name": "#%%\n"
    }
   },
   "outputs": [
    {
     "name": "stderr",
     "output_type": "stream",
     "text": [
      "100%|██████████| 100/100 [02:44<00:00,  1.64s/it]\n"
     ]
    },
    {
     "data": {
      "text/plain": "<Figure size 576x576 with 0 Axes>"
     },
     "metadata": {},
     "output_type": "display_data"
    }
   ],
   "source": [
    "# do the EM\n",
    "_ ,_ , ll = EM(data=X,\n",
    "            num_components=4,\n",
    "            num_dims=1,\n",
    "            num_iterations=100,\n",
    "            plot_steps=False,\n",
    "            save_figs=True,)"
   ]
  },
  {
   "cell_type": "code",
   "execution_count": 45,
   "metadata": {
    "pycharm": {
     "name": "#%%\n"
    }
   },
   "outputs": [],
   "source": [
    "# save images as gif to show below\n",
    "save_as_gif()"
   ]
  },
  {
   "cell_type": "markdown",
   "metadata": {
    "pycharm": {
     "name": "#%% md\n"
    }
   },
   "source": [
    "![SegmentLocal](gifs/iterations.gif \"Algorithm working\")"
   ]
  },
  {
   "cell_type": "code",
   "execution_count": 46,
   "metadata": {
    "pycharm": {
     "name": "#%%\n"
    }
   },
   "outputs": [
    {
     "data": {
      "text/plain": "[<matplotlib.lines.Line2D at 0x20696a3fac0>]"
     },
     "execution_count": 46,
     "metadata": {},
     "output_type": "execute_result"
    },
    {
     "data": {
      "text/plain": "<Figure size 432x288 with 1 Axes>",
      "image/png": "[encoded data removed]"
     },
     "metadata": {
      "needs_background": "light"
     },
     "output_type": "display_data"
    }
   ],
   "source": [
    "# plot of log likelihood over the course of all iterations\n",
    "plt.plot(ll)"
   ]
  },
  {
   "cell_type": "markdown",
   "source": [],
   "metadata": {
    "collapsed": false,
    "pycharm": {
     "name": "#%% md\n"
    }
   }
  },
  {
   "cell_type": "markdown",
   "source": [
    "#### Two Dimensional Data"
   ],
   "metadata": {
    "collapsed": false,
    "pycharm": {
     "name": "#%% md\n"
    }
   }
  },
  {
   "cell_type": "code",
   "execution_count": 27,
   "metadata": {
    "pycharm": {
     "name": "#%%\n"
    }
   },
   "outputs": [],
   "source": [
    "# Generate random 2D data with 5 clusters\n",
    "X, m, c = generate_test_data(num_components=5,\n",
    "                             num_dims=2,\n",
    "                             num_cluster_points=1000)"
   ]
  },
  {
   "cell_type": "code",
   "execution_count": 28,
   "metadata": {
    "pycharm": {
     "name": "#%%\n"
    }
   },
   "outputs": [
    {
     "name": "stdout",
     "output_type": "stream",
     "text": [
      "(5000, 2)\n",
      "(5, 2)\n",
      "(2, 2)\n"
     ]
    }
   ],
   "source": [
    "# Check the shape of the data\n",
    "print(str(X.shape))\n",
    "print(m.shape)\n",
    "print(c.shape)"
   ]
  },
  {
   "cell_type": "code",
   "execution_count": 29,
   "metadata": {
    "pycharm": {
     "name": "#%%\n"
    }
   },
   "outputs": [
    {
     "name": "stderr",
     "output_type": "stream",
     "text": [
      "100%|██████████| 100/100 [04:25<00:00,  2.65s/it]\n"
     ]
    },
    {
     "data": {
      "text/plain": "<Figure size 576x576 with 0 Axes>"
     },
     "metadata": {},
     "output_type": "display_data"
    }
   ],
   "source": [
    "# do the EM algorithm\n",
    "_ ,_ , ll = EM(data=X,\n",
    "            num_components=5,\n",
    "            num_dims=2,\n",
    "            num_iterations=100,\n",
    "            plot_steps=False,\n",
    "            save_figs=True)"
   ]
  },
  {
   "cell_type": "code",
   "execution_count": 31,
   "metadata": {
    "pycharm": {
     "name": "#%%\n"
    }
   },
   "outputs": [],
   "source": [
    "# save images as gif to show below\n",
    "save_as_gif(output_folder=\"./gifs/2dim5cluster.gif\")"
   ]
  },
  {
   "cell_type": "markdown",
   "source": [
    "![SegmentLocal](gifs/2dim5cluster.gif \"segment\")"
   ],
   "metadata": {
    "collapsed": false,
    "pycharm": {
     "name": "#%% md\n"
    }
   }
  },
  {
   "cell_type": "code",
   "execution_count": 32,
   "outputs": [
    {
     "data": {
      "text/plain": "[<matplotlib.lines.Line2D at 0x2a751f03910>]"
     },
     "execution_count": 32,
     "metadata": {},
     "output_type": "execute_result"
    },
    {
     "data": {
      "text/plain": "<Figure size 432x288 with 1 Axes>",
      "image/png": "[encoded data removed]"
     },
     "metadata": {
      "needs_background": "light"
     },
     "output_type": "display_data"
    }
   ],
   "source": [
    "# plot of log likelihood over the course of all iterations\n",
    "plt.plot(ll)"
   ],
   "metadata": {
    "collapsed": false,
    "pycharm": {
     "name": "#%%\n"
    }
   }
  },
  {
   "cell_type": "markdown",
   "source": [
    "### Higher Dimensional data"
   ],
   "metadata": {
    "collapsed": false,
    "pycharm": {
     "name": "#%% md\n"
    }
   }
  },
  {
   "cell_type": "code",
   "execution_count": 55,
   "outputs": [
    {
     "name": "stdout",
     "output_type": "stream",
     "text": [
      "(500, 4)\n",
      "(5, 4)\n",
      "(4, 4)\n"
     ]
    },
    {
     "name": "stderr",
     "output_type": "stream",
     "text": [
      "100%|██████████| 100/100 [00:41<00:00,  2.39it/s]\n"
     ]
    }
   ],
   "source": [
    "# generate 4 dimensional data\n",
    "X, m, c = generate_test_data(num_components=5,\n",
    "                             num_dims=4,\n",
    "                             num_cluster_points=100)\n",
    "# Check the shape of the data\n",
    "print(str(X.shape))\n",
    "print(m.shape)\n",
    "print(c.shape)\n",
    "# do the EM algorithm\n",
    "components_params,_ , ll = EM(data=X,\n",
    "            num_components=5,\n",
    "            num_dims=4,\n",
    "            num_iterations=100,\n",
    "            plot_steps=False,\n",
    "            save_figs=False)"
   ],
   "metadata": {
    "collapsed": false,
    "pycharm": {
     "name": "#%%\n"
    }
   }
  },
  {
   "cell_type": "code",
   "execution_count": 56,
   "outputs": [
    {
     "data": {
      "text/plain": "array([[ 9.31713021,  9.34769086, -6.01660863, -2.19722899],\n       [ 0.14420667,  5.00329823,  4.01777596,  7.17019503],\n       [-3.81798961, -2.56851288, -2.48282002, -1.77668688],\n       [ 4.76295417, -8.8837793 , -3.49114333, -5.11678863],\n       [ 0.91325714,  4.42146009, -2.09300781, -3.33928974]])"
     },
     "execution_count": 56,
     "metadata": {},
     "output_type": "execute_result"
    }
   ],
   "source": [
    "# show mean values of original data\n",
    "m"
   ],
   "metadata": {
    "collapsed": false,
    "pycharm": {
     "name": "#%%\n"
    }
   }
  },
  {
   "cell_type": "code",
   "execution_count": 57,
   "outputs": [
    {
     "data": {
      "text/plain": "[array([-3.7044629 , -2.68812835, -2.13922796, -1.64127365]),\n array([ 0.72933076,  4.48695329, -2.34666913, -3.45401525]),\n array([0.3163736 , 5.3294941 , 4.35869835, 7.0763938 ]),\n array([ 9.13007342,  9.25824709, -6.05431279, -2.24197559]),\n array([ 4.84088498, -8.90073281, -3.53062758, -5.16529718])]"
     },
     "execution_count": 57,
     "metadata": {},
     "output_type": "execute_result"
    }
   ],
   "source": [
    "# show mean values of estimated gaussians to see if they fit those of the original data\n",
    "[param[\"m\"] for param in components_params]"
   ],
   "metadata": {
    "collapsed": false,
    "pycharm": {
     "name": "#%%\n"
    }
   }
  },
  {
   "cell_type": "code",
   "execution_count": 58,
   "outputs": [
    {
     "data": {
      "text/plain": "<Figure size 432x288 with 1 Axes>",
      "image/png": "[encoded data removed]"
     },
     "metadata": {
      "needs_background": "light"
     },
     "output_type": "display_data"
    }
   ],
   "source": [
    "# plot log likelihoods\n",
    "plt.plot(ll)\n",
    "plt.show()"
   ],
   "metadata": {
    "collapsed": false,
    "pycharm": {
     "name": "#%%\n"
    }
   }
  },
  {
   "cell_type": "markdown",
   "source": [
    "# Experiment"
   ],
   "metadata": {
    "collapsed": false,
    "pycharm": {
     "name": "#%% md\n"
    }
   }
  },
  {
   "cell_type": "code",
   "execution_count": 8,
   "outputs": [],
   "source": [
    "# To plot the original data, every datapoint of a cluster has the same color\n",
    "def plot_original(data, samples_per_cluster, num_clusters):\n",
    "    for i in range(0, num_clusters):\n",
    "        plt.scatter(data[samples_per_cluster * i: samples_per_cluster * (i + 1), 0], data[samples_per_cluster * i: samples_per_cluster * (i + 1), 1])\n",
    "    plt.show()"
   ],
   "metadata": {
    "collapsed": false,
    "pycharm": {
     "name": "#%%\n"
    }
   }
  },
  {
   "cell_type": "code",
   "execution_count": 9,
   "outputs": [],
   "source": [
    "# constant values to have everything computed properly down below\n",
    "CLUSTER_POINTS=100\n",
    "NUM_COMPONENTS=5"
   ],
   "metadata": {
    "collapsed": false,
    "pycharm": {
     "name": "#%%\n"
    }
   }
  },
  {
   "cell_type": "code",
   "execution_count": 15,
   "outputs": [
    {
     "name": "stdout",
     "output_type": "stream",
     "text": [
      "(500, 2)\n"
     ]
    }
   ],
   "source": [
    "# convenience function to have everyhing together, original data is just many gaussians appended, so true labels are \"computed\" based on this\n",
    "def generate_data_for_test():\n",
    "    true_labels = []\n",
    "    for i in range(0,NUM_COMPONENTS):\n",
    "        true_labels.extend([i for _ in range(0,CLUSTER_POINTS)])\n",
    "    return generate_test_data(num_components=NUM_COMPONENTS,\n",
    "                             num_dims=2,\n",
    "                             num_cluster_points=CLUSTER_POINTS)[0], true_labels\n",
    "\n",
    "\n",
    "X, true_labels = generate_data_for_test()\n",
    "# Check the shape of the data\n",
    "print(str(X.shape))"
   ],
   "metadata": {
    "collapsed": false,
    "pycharm": {
     "name": "#%%\n"
    }
   }
  },
  {
   "cell_type": "code",
   "execution_count": 16,
   "outputs": [],
   "source": [
    "# convenience functions\n",
    "# predictions for em is the maximum likelihood of every row\n",
    "def do_em(iterations=100):\n",
    "    \"\"\"\n",
    "    do specified number of iterations with em with fixed parameters matching those of the kmeans\n",
    "    :param iterations: number of iterations before stop\n",
    "    :return: the labels, as well as the rand index score\n",
    "    \"\"\"\n",
    "    labels = []\n",
    "    _, responsibilities, _ = EM(data=X,\n",
    "                               num_components=NUM_COMPONENTS,\n",
    "                               num_dims=2,\n",
    "                               num_iterations=iterations,\n",
    "                               plot_steps=False,\n",
    "                               save_figs=False)\n",
    "\n",
    "    for row in responsibilities.tolist():\n",
    "        max_val = max(row)\n",
    "        labels.append(row.index(max_val))\n",
    "\n",
    "    return labels, rand_score(true_labels, labels)\n",
    "\n",
    "# convenience function\n",
    "def do_kmeans():\n",
    "    \"\"\"\n",
    "    do kmeans with 50 iterations before stop\n",
    "    :return: the labels, as well as the rand index score\n",
    "    \"\"\"\n",
    "    kmeans = KMeans(n_clusters=NUM_COMPONENTS, n_init=1, max_iter=50)\n",
    "    labels = kmeans.fit_predict(X)\n",
    "\n",
    "    return labels, rand_score(true_labels, labels)"
   ],
   "metadata": {
    "collapsed": false,
    "pycharm": {
     "name": "#%%\n"
    }
   }
  },
  {
   "cell_type": "markdown",
   "source": [
    "## EM"
   ],
   "metadata": {
    "collapsed": false
   }
  },
  {
   "cell_type": "code",
   "execution_count": 19,
   "outputs": [
    {
     "name": "stderr",
     "output_type": "stream",
     "text": [
      "100%|██████████| 50/50 [00:12<00:00,  3.85it/s]"
     ]
    },
    {
     "name": "stdout",
     "output_type": "stream",
     "text": [
      "Original Clustering:\n"
     ]
    },
    {
     "name": "stderr",
     "output_type": "stream",
     "text": [
      "\n"
     ]
    },
    {
     "data": {
      "text/plain": "<Figure size 432x288 with 1 Axes>",
      "image/png": "[encoded data removed]"
     },
     "metadata": {},
     "output_type": "display_data"
    },
    {
     "name": "stdout",
     "output_type": "stream",
     "text": [
      "Predicted Clustering:\n"
     ]
    },
    {
     "data": {
      "text/plain": "<Figure size 432x288 with 1 Axes>",
      "image/png": "[encoded data removed]"
     },
     "metadata": {},
     "output_type": "display_data"
    },
    {
     "name": "stdout",
     "output_type": "stream",
     "text": [
      "Score: 0.9209458917835671\n"
     ]
    }
   ],
   "source": [
    "# plot original and em predicted to check if everything works\n",
    "labels, score = do_em(iterations=50)\n",
    "print(\"Original Clustering:\")\n",
    "plot_original(X, CLUSTER_POINTS, NUM_COMPONENTS)\n",
    "print(\"Predicted Clustering:\")\n",
    "plt.scatter(X[:, 0], X[:, 1], c=labels, cmap=\"viridis\")\n",
    "plt.show()\n",
    "print(\"Score:\", score)"
   ],
   "metadata": {
    "collapsed": false,
    "pycharm": {
     "name": "#%%\n"
    }
   }
  },
  {
   "cell_type": "markdown",
   "source": [
    "# KMeans"
   ],
   "metadata": {
    "collapsed": false
   }
  },
  {
   "cell_type": "code",
   "execution_count": 20,
   "outputs": [
    {
     "name": "stdout",
     "output_type": "stream",
     "text": [
      "Original Clustering:\n"
     ]
    },
    {
     "data": {
      "text/plain": "<Figure size 432x288 with 1 Axes>",
      "image/png": "[encoded data removed]"
     },
     "metadata": {},
     "output_type": "display_data"
    },
    {
     "name": "stdout",
     "output_type": "stream",
     "text": [
      "Predicted Clustering:\n"
     ]
    },
    {
     "data": {
      "text/plain": "<Figure size 432x288 with 1 Axes>",
      "image/png": "[encoded data removed]"
     },
     "metadata": {},
     "output_type": "display_data"
    },
    {
     "name": "stdout",
     "output_type": "stream",
     "text": [
      "Score: 0.9119839679358718\n"
     ]
    }
   ],
   "source": [
    "# same with the kmeans\n",
    "labels, score = do_kmeans()\n",
    "print(\"Original Clustering:\")\n",
    "plot_original(X, CLUSTER_POINTS, NUM_COMPONENTS)\n",
    "print(\"Predicted Clustering:\")\n",
    "plt.scatter(X[:, 0], X[:, 1], c=labels, cmap=\"viridis\")\n",
    "plt.show()\n",
    "print(\"Score:\", score)"
   ],
   "metadata": {
    "collapsed": false,
    "pycharm": {
     "name": "#%%\n"
    }
   }
  },
  {
   "cell_type": "markdown",
   "source": [
    "## Evaluate Score over many Iterations"
   ],
   "metadata": {
    "collapsed": false,
    "pycharm": {
     "name": "#%% md\n"
    }
   }
  },
  {
   "cell_type": "code",
   "execution_count": 13,
   "outputs": [],
   "source": [
    "NUMBER_OF_ITERATIONS = 100"
   ],
   "metadata": {
    "collapsed": false,
    "pycharm": {
     "name": "#%%\n"
    }
   }
  },
  {
   "cell_type": "code",
   "execution_count": 14,
   "outputs": [
    {
     "name": "stdout",
     "output_type": "stream",
     "text": [
      "Average Rand Score:  0.92689002004008\n"
     ]
    }
   ],
   "source": [
    "# repeat kmeans 100 times with new data on every step and compute average rand index score\n",
    "score = 0\n",
    "for _ in range(0, NUMBER_OF_ITERATIONS):\n",
    "    X, true_labels = generate_data_for_test()\n",
    "    score += do_kmeans()[1]\n",
    "print(\"Average Rand Score: \", score/NUMBER_OF_ITERATIONS)\n"
   ],
   "metadata": {
    "collapsed": false,
    "pycharm": {
     "name": "#%%\n"
    }
   }
  },
  {
   "cell_type": "code",
   "execution_count": 17,
   "outputs": [
    {
     "name": "stderr",
     "output_type": "stream",
     "text": [
      "100%|██████████| 50/50 [00:07<00:00,  6.26it/s]\n",
      "100%|██████████| 50/50 [00:21<00:00,  2.31it/s]\n",
      "100%|██████████| 50/50 [00:10<00:00,  4.86it/s]\n",
      "100%|██████████| 50/50 [00:10<00:00,  4.94it/s]\n",
      " 24%|██▍       | 12/50 [00:02<00:07,  4.96it/s]\n"
     ]
    },
    {
     "name": "stdout",
     "output_type": "stream",
     "text": [
      "singular matrix, restart\n"
     ]
    },
    {
     "name": "stderr",
     "output_type": "stream",
     "text": [
      "100%|██████████| 50/50 [00:10<00:00,  4.92it/s]\n",
      "100%|██████████| 50/50 [00:10<00:00,  4.94it/s]\n",
      " 12%|█▏        | 6/50 [00:01<00:09,  4.74it/s]\n"
     ]
    },
    {
     "name": "stdout",
     "output_type": "stream",
     "text": [
      "singular matrix, restart\n"
     ]
    },
    {
     "name": "stderr",
     "output_type": "stream",
     "text": [
      "100%|██████████| 50/50 [00:10<00:00,  4.94it/s]\n",
      "100%|██████████| 50/50 [00:10<00:00,  4.97it/s]\n",
      "100%|██████████| 50/50 [00:10<00:00,  4.83it/s]\n",
      "100%|██████████| 50/50 [00:10<00:00,  4.86it/s]\n",
      "  4%|▍         | 2/50 [00:00<00:10,  4.58it/s]\n"
     ]
    },
    {
     "name": "stdout",
     "output_type": "stream",
     "text": [
      "singular matrix, restart\n"
     ]
    },
    {
     "name": "stderr",
     "output_type": "stream",
     "text": [
      "100%|██████████| 50/50 [00:09<00:00,  5.01it/s]\n",
      "  2%|▏         | 1/50 [00:00<00:09,  5.10it/s]\n"
     ]
    },
    {
     "name": "stdout",
     "output_type": "stream",
     "text": [
      "singular matrix, restart\n"
     ]
    },
    {
     "name": "stderr",
     "output_type": "stream",
     "text": [
      "100%|██████████| 50/50 [00:10<00:00,  4.81it/s]\n",
      "  6%|▌         | 3/50 [00:00<00:09,  5.19it/s]\n"
     ]
    },
    {
     "name": "stdout",
     "output_type": "stream",
     "text": [
      "singular matrix, restart\n"
     ]
    },
    {
     "name": "stderr",
     "output_type": "stream",
     "text": [
      "100%|██████████| 50/50 [00:11<00:00,  4.45it/s]\n",
      " 10%|█         | 5/50 [00:01<00:09,  4.80it/s]\n"
     ]
    },
    {
     "name": "stdout",
     "output_type": "stream",
     "text": [
      "singular matrix, restart\n"
     ]
    },
    {
     "name": "stderr",
     "output_type": "stream",
     "text": [
      "100%|██████████| 50/50 [00:17<00:00,  2.87it/s]\n",
      "100%|██████████| 50/50 [00:11<00:00,  4.44it/s]\n",
      "100%|██████████| 50/50 [00:11<00:00,  4.22it/s]\n",
      "100%|██████████| 50/50 [00:10<00:00,  4.62it/s]\n",
      "100%|██████████| 50/50 [00:10<00:00,  4.71it/s]\n",
      "100%|██████████| 50/50 [00:10<00:00,  4.73it/s]\n",
      "100%|██████████| 50/50 [00:11<00:00,  4.53it/s]\n",
      "100%|██████████| 50/50 [00:11<00:00,  4.49it/s]\n",
      "  2%|▏         | 1/50 [00:00<00:12,  3.79it/s]\n"
     ]
    },
    {
     "name": "stdout",
     "output_type": "stream",
     "text": [
      "singular matrix, restart\n"
     ]
    },
    {
     "name": "stderr",
     "output_type": "stream",
     "text": [
      "100%|██████████| 50/50 [00:11<00:00,  4.44it/s]\n",
      "100%|██████████| 50/50 [00:11<00:00,  4.25it/s]\n",
      "100%|██████████| 50/50 [00:12<00:00,  4.04it/s]\n",
      "100%|██████████| 50/50 [00:11<00:00,  4.21it/s]\n",
      "100%|██████████| 50/50 [00:10<00:00,  4.71it/s]\n",
      "100%|██████████| 50/50 [00:11<00:00,  4.32it/s]\n",
      "  4%|▍         | 2/50 [00:00<00:15,  3.08it/s]\n"
     ]
    },
    {
     "name": "stdout",
     "output_type": "stream",
     "text": [
      "singular matrix, restart\n"
     ]
    },
    {
     "name": "stderr",
     "output_type": "stream",
     "text": [
      "100%|██████████| 50/50 [00:16<00:00,  3.11it/s]\n",
      "100%|██████████| 50/50 [00:15<00:00,  3.21it/s]\n",
      "100%|██████████| 50/50 [00:13<00:00,  3.75it/s]\n",
      "100%|██████████| 50/50 [00:13<00:00,  3.85it/s]\n",
      "100%|██████████| 50/50 [00:15<00:00,  3.16it/s]\n",
      "100%|██████████| 50/50 [00:12<00:00,  4.15it/s]\n",
      "100%|██████████| 50/50 [00:10<00:00,  4.80it/s]\n",
      "100%|██████████| 50/50 [00:10<00:00,  4.95it/s]\n",
      "100%|██████████| 50/50 [00:10<00:00,  4.94it/s]\n",
      "100%|██████████| 50/50 [00:10<00:00,  4.94it/s]\n",
      "100%|██████████| 50/50 [00:11<00:00,  4.28it/s]\n",
      "100%|██████████| 50/50 [00:11<00:00,  4.51it/s]\n",
      "100%|██████████| 50/50 [00:11<00:00,  4.21it/s]\n",
      "100%|██████████| 50/50 [00:10<00:00,  4.89it/s]\n",
      "100%|██████████| 50/50 [00:10<00:00,  4.93it/s]\n",
      "100%|██████████| 50/50 [00:10<00:00,  4.90it/s]\n",
      "100%|██████████| 50/50 [00:10<00:00,  4.93it/s]\n",
      "100%|██████████| 50/50 [00:10<00:00,  4.88it/s]\n",
      "100%|██████████| 50/50 [00:10<00:00,  4.93it/s]\n",
      " 26%|██▌       | 13/50 [00:02<00:07,  4.83it/s]\n"
     ]
    },
    {
     "name": "stdout",
     "output_type": "stream",
     "text": [
      "singular matrix, restart\n"
     ]
    },
    {
     "name": "stderr",
     "output_type": "stream",
     "text": [
      "100%|██████████| 50/50 [00:10<00:00,  4.67it/s]\n",
      " 20%|██        | 10/50 [00:02<00:08,  4.50it/s]\n"
     ]
    },
    {
     "name": "stdout",
     "output_type": "stream",
     "text": [
      "singular matrix, restart\n"
     ]
    },
    {
     "name": "stderr",
     "output_type": "stream",
     "text": [
      "100%|██████████| 50/50 [00:12<00:00,  4.03it/s]\n",
      " 20%|██        | 10/50 [00:02<00:08,  4.48it/s]\n"
     ]
    },
    {
     "name": "stdout",
     "output_type": "stream",
     "text": [
      "singular matrix, restart\n"
     ]
    },
    {
     "name": "stderr",
     "output_type": "stream",
     "text": [
      "100%|██████████| 50/50 [00:11<00:00,  4.46it/s]\n",
      "100%|██████████| 50/50 [00:10<00:00,  4.83it/s]\n",
      "  4%|▍         | 2/50 [00:00<00:09,  5.17it/s]\n"
     ]
    },
    {
     "name": "stdout",
     "output_type": "stream",
     "text": [
      "singular matrix, restart\n"
     ]
    },
    {
     "name": "stderr",
     "output_type": "stream",
     "text": [
      "100%|██████████| 50/50 [00:12<00:00,  4.16it/s]\n",
      "100%|██████████| 50/50 [00:10<00:00,  4.75it/s]\n",
      "100%|██████████| 50/50 [00:10<00:00,  4.55it/s]\n",
      "100%|██████████| 50/50 [00:10<00:00,  4.97it/s]\n",
      "  4%|▍         | 2/50 [00:00<00:10,  4.69it/s]\n"
     ]
    },
    {
     "name": "stdout",
     "output_type": "stream",
     "text": [
      "singular matrix, restart\n"
     ]
    },
    {
     "name": "stderr",
     "output_type": "stream",
     "text": [
      " 14%|█▍        | 7/50 [00:01<00:09,  4.61it/s]\n"
     ]
    },
    {
     "name": "stdout",
     "output_type": "stream",
     "text": [
      "singular matrix, restart\n"
     ]
    },
    {
     "name": "stderr",
     "output_type": "stream",
     "text": [
      "100%|██████████| 50/50 [00:10<00:00,  4.99it/s]\n",
      " 16%|█▌        | 8/50 [00:01<00:08,  4.87it/s]\n"
     ]
    },
    {
     "name": "stdout",
     "output_type": "stream",
     "text": [
      "singular matrix, restart\n"
     ]
    },
    {
     "name": "stderr",
     "output_type": "stream",
     "text": [
      "100%|██████████| 50/50 [00:10<00:00,  4.91it/s]\n",
      "100%|██████████| 50/50 [00:10<00:00,  4.93it/s]\n",
      " 36%|███▌      | 18/50 [00:03<00:06,  5.07it/s]\n"
     ]
    },
    {
     "name": "stdout",
     "output_type": "stream",
     "text": [
      "singular matrix, restart\n"
     ]
    },
    {
     "name": "stderr",
     "output_type": "stream",
     "text": [
      "  4%|▍         | 2/50 [00:00<00:10,  4.73it/s]\n"
     ]
    },
    {
     "name": "stdout",
     "output_type": "stream",
     "text": [
      "singular matrix, restart\n"
     ]
    },
    {
     "name": "stderr",
     "output_type": "stream",
     "text": [
      " 20%|██        | 10/50 [00:02<00:08,  4.71it/s]\n"
     ]
    },
    {
     "name": "stdout",
     "output_type": "stream",
     "text": [
      "singular matrix, restart\n"
     ]
    },
    {
     "name": "stderr",
     "output_type": "stream",
     "text": [
      "100%|██████████| 50/50 [00:10<00:00,  4.92it/s]\n",
      " 10%|█         | 5/50 [00:01<00:13,  3.35it/s]\n"
     ]
    },
    {
     "name": "stdout",
     "output_type": "stream",
     "text": [
      "singular matrix, restart\n"
     ]
    },
    {
     "name": "stderr",
     "output_type": "stream",
     "text": [
      "100%|██████████| 50/50 [00:11<00:00,  4.43it/s]\n",
      "100%|██████████| 50/50 [00:10<00:00,  4.88it/s]\n",
      "100%|██████████| 50/50 [00:10<00:00,  4.66it/s]\n",
      "100%|██████████| 50/50 [00:10<00:00,  4.90it/s]\n",
      "100%|██████████| 50/50 [00:10<00:00,  4.83it/s]\n",
      "100%|██████████| 50/50 [00:10<00:00,  4.95it/s]\n",
      "100%|██████████| 50/50 [00:10<00:00,  4.95it/s]\n",
      "100%|██████████| 50/50 [00:10<00:00,  4.99it/s]\n",
      "100%|██████████| 50/50 [00:10<00:00,  4.74it/s]\n",
      "100%|██████████| 50/50 [00:10<00:00,  4.98it/s]\n",
      "100%|██████████| 50/50 [00:10<00:00,  4.89it/s]\n",
      "  2%|▏         | 1/50 [00:00<00:11,  4.40it/s]\n"
     ]
    },
    {
     "name": "stdout",
     "output_type": "stream",
     "text": [
      "singular matrix, restart\n"
     ]
    },
    {
     "name": "stderr",
     "output_type": "stream",
     "text": [
      "100%|██████████| 50/50 [00:09<00:00,  5.05it/s]\n",
      " 10%|█         | 5/50 [00:01<00:09,  4.58it/s]\n"
     ]
    },
    {
     "name": "stdout",
     "output_type": "stream",
     "text": [
      "singular matrix, restart\n"
     ]
    },
    {
     "name": "stderr",
     "output_type": "stream",
     "text": [
      "100%|██████████| 50/50 [00:10<00:00,  4.97it/s]\n",
      "100%|██████████| 50/50 [00:10<00:00,  4.94it/s]\n",
      "100%|██████████| 50/50 [00:10<00:00,  4.87it/s]\n",
      " 32%|███▏      | 16/50 [00:03<00:06,  4.94it/s]\n"
     ]
    },
    {
     "name": "stdout",
     "output_type": "stream",
     "text": [
      "singular matrix, restart\n"
     ]
    },
    {
     "name": "stderr",
     "output_type": "stream",
     "text": [
      "100%|██████████| 50/50 [00:10<00:00,  4.91it/s]\n",
      "100%|██████████| 50/50 [00:10<00:00,  4.86it/s]\n",
      "100%|██████████| 50/50 [00:10<00:00,  4.80it/s]\n",
      "100%|██████████| 50/50 [00:10<00:00,  4.89it/s]\n",
      "  4%|▍         | 2/50 [00:00<00:10,  4.74it/s]\n"
     ]
    },
    {
     "name": "stdout",
     "output_type": "stream",
     "text": [
      "singular matrix, restart\n"
     ]
    },
    {
     "name": "stderr",
     "output_type": "stream",
     "text": [
      "100%|██████████| 50/50 [00:10<00:00,  4.87it/s]\n",
      " 10%|█         | 5/50 [00:01<00:09,  4.81it/s]\n"
     ]
    },
    {
     "name": "stdout",
     "output_type": "stream",
     "text": [
      "singular matrix, restart\n"
     ]
    },
    {
     "name": "stderr",
     "output_type": "stream",
     "text": [
      "100%|██████████| 50/50 [00:10<00:00,  4.71it/s]\n",
      "100%|██████████| 50/50 [00:10<00:00,  4.94it/s]\n",
      "100%|██████████| 50/50 [00:10<00:00,  4.97it/s]\n",
      "  8%|▊         | 4/50 [00:00<00:09,  4.78it/s]\n"
     ]
    },
    {
     "name": "stdout",
     "output_type": "stream",
     "text": [
      "singular matrix, restart\n"
     ]
    },
    {
     "name": "stderr",
     "output_type": "stream",
     "text": [
      " 40%|████      | 20/50 [00:04<00:06,  4.92it/s]\n"
     ]
    },
    {
     "name": "stdout",
     "output_type": "stream",
     "text": [
      "singular matrix, restart\n"
     ]
    },
    {
     "name": "stderr",
     "output_type": "stream",
     "text": [
      "100%|██████████| 50/50 [00:10<00:00,  4.92it/s]\n",
      "100%|██████████| 50/50 [00:10<00:00,  4.89it/s]\n",
      "100%|██████████| 50/50 [00:10<00:00,  4.90it/s]\n",
      "100%|██████████| 50/50 [00:10<00:00,  4.84it/s]\n",
      "100%|██████████| 50/50 [00:10<00:00,  4.61it/s]\n",
      "100%|██████████| 50/50 [00:10<00:00,  4.94it/s]\n",
      "100%|██████████| 50/50 [00:10<00:00,  4.92it/s]\n",
      "100%|██████████| 50/50 [00:10<00:00,  4.93it/s]\n",
      "100%|██████████| 50/50 [00:11<00:00,  4.45it/s]\n",
      "  2%|▏         | 1/50 [00:00<00:11,  4.41it/s]\n"
     ]
    },
    {
     "name": "stdout",
     "output_type": "stream",
     "text": [
      "singular matrix, restart\n"
     ]
    },
    {
     "name": "stderr",
     "output_type": "stream",
     "text": [
      " 14%|█▍        | 7/50 [00:01<00:08,  4.87it/s]\n"
     ]
    },
    {
     "name": "stdout",
     "output_type": "stream",
     "text": [
      "singular matrix, restart\n"
     ]
    },
    {
     "name": "stderr",
     "output_type": "stream",
     "text": [
      "100%|██████████| 50/50 [00:10<00:00,  4.73it/s]\n",
      "100%|██████████| 50/50 [00:10<00:00,  4.94it/s]\n",
      "100%|██████████| 50/50 [00:10<00:00,  4.94it/s]\n",
      "100%|██████████| 50/50 [00:10<00:00,  4.94it/s]\n",
      "100%|██████████| 50/50 [00:10<00:00,  4.90it/s]\n",
      "100%|██████████| 50/50 [00:10<00:00,  4.96it/s]\n",
      "100%|██████████| 50/50 [00:10<00:00,  4.89it/s]\n",
      "  2%|▏         | 1/50 [00:00<00:12,  3.86it/s]\n"
     ]
    },
    {
     "name": "stdout",
     "output_type": "stream",
     "text": [
      "singular matrix, restart\n"
     ]
    },
    {
     "name": "stderr",
     "output_type": "stream",
     "text": [
      "  4%|▍         | 2/50 [00:00<00:10,  4.47it/s]\n"
     ]
    },
    {
     "name": "stdout",
     "output_type": "stream",
     "text": [
      "singular matrix, restart\n"
     ]
    },
    {
     "name": "stderr",
     "output_type": "stream",
     "text": [
      "100%|██████████| 50/50 [00:10<00:00,  4.92it/s]\n",
      "  4%|▍         | 2/50 [00:00<00:10,  4.71it/s]\n"
     ]
    },
    {
     "name": "stdout",
     "output_type": "stream",
     "text": [
      "singular matrix, restart\n"
     ]
    },
    {
     "name": "stderr",
     "output_type": "stream",
     "text": [
      "100%|██████████| 50/50 [00:10<00:00,  4.86it/s]\n",
      "100%|██████████| 50/50 [00:10<00:00,  4.89it/s]"
     ]
    },
    {
     "name": "stdout",
     "output_type": "stream",
     "text": [
      "Average Rand Score:  0.8871749098196393\n"
     ]
    },
    {
     "name": "stderr",
     "output_type": "stream",
     "text": [
      "\n"
     ]
    }
   ],
   "source": [
    "# repeat em 100 times with new data on every step and compute average rand index score\n",
    "# restart if singular matrix\n",
    "score = 0\n",
    "iters = NUMBER_OF_ITERATIONS\n",
    "while iters > 0:\n",
    "    X, true_labels = generate_data_for_test()\n",
    "    try:\n",
    "        score += do_em(50)[1]\n",
    "        iters -= 1\n",
    "    except:\n",
    "        print(\"singular matrix, restart\")\n",
    "        pass\n",
    "print(\"Average Rand Score: \", score/NUMBER_OF_ITERATIONS)"
   ],
   "metadata": {
    "collapsed": false,
    "pycharm": {
     "name": "#%%\n"
    }
   }
  }
 ],
 "metadata": {
  "interpreter": {
   "hash": "81794d4967e6c3204c66dcd87b604927b115b27c00565d3d43f05ba2f3a2cb0d"
  },
  "kernelspec": {
   "display_name": "Python 3",
   "language": "python",
   "name": "python3"
  },
  "language_info": {
   "codemirror_mode": {
    "name": "ipython",
    "version": 3
   },
   "file_extension": ".py",
   "mimetype": "text/x-python",
   "name": "python",
   "nbconvert_exporter": "python",
   "pygments_lexer": "ipython3",
   "version": "3.8.8"
  }
 },
 "nbformat": 4,
 "nbformat_minor": 2
}
